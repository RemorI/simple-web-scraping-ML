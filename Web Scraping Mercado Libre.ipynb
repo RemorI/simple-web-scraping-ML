{
 "cells": [
  {
   "cell_type": "code",
   "execution_count": 1,
   "id": "3a38e13e",
   "metadata": {},
   "outputs": [],
   "source": [
    "#Libraries\n",
    "\n",
    "from bs4 import BeautifulSoup as soup\n",
    "import requests\n",
    "import pandas as pd\n",
    "import numpy as np\n",
    "import time\n",
    "\n",
    "import matplotlib.pyplot as plt\n",
    "import seaborn as sns\n"
   ]
  },
  {
   "cell_type": "code",
   "execution_count": 2,
   "id": "2b19e9af",
   "metadata": {},
   "outputs": [],
   "source": [
    "#Get Data from web\n",
    "\n",
    "URL = \"https://listado.mercadolibre.com.ar/notebook#D[A:notebook]\"\n",
    "\n",
    "page = requests.get(URL)\n",
    "pageSoup = soup(page.content, \"html.parser\")\n",
    "ppageSoup = soup(pageSoup.prettify(), \"html.parser\")\n",
    "\n",
    "#print(ppageSoup)\n",
    "\n",
    "containers = ppageSoup.find_all(class_=\"andes-card ui-search-result shops__cardStyles ui-search-result--core andes-card--flat andes-card--padding-16\")\n",
    "\n",
    "#print(containers[0].get_text())"
   ]
  },
  {
   "cell_type": "code",
   "execution_count": 9,
   "id": "fe897629",
   "metadata": {},
   "outputs": [
    {
     "name": "stderr",
     "output_type": "stream",
     "text": [
      "C:\\Users\\Blight\\AppData\\Local\\Temp\\ipykernel_8744\\840013347.py:30: FutureWarning: The default value of regex will change from True to False in a future version. In addition, single character regular expressions will *not* be treated as literal strings when regex=True.\n",
      "  MercadoLibredf['Price'] = MercadoLibredf['Price'].str.replace(\".\", \"\").astype(int)\n"
     ]
    }
   ],
   "source": [
    "#Clean up and organice the data\n",
    "\n",
    "#print(len(containers))\n",
    "\n",
    "d = {\"Title\":[], \"Price\":[], \"Calification\":[]}\n",
    "\n",
    "for container in containers:\n",
    "    title = container.find(\"h2\", class_=\"ui-search-item__title shops__item-title\").get_text()\n",
    "    title = title.strip()\n",
    "    price = container.find(\"span\", class_=\"andes-money-amount__fraction\").get_text()\n",
    "    price = price.strip()\n",
    "    \n",
    "    try:\n",
    "        califgross = container.find(\"div\", class_=\"ui-search-reviews ui-search-item__group__element shops__items-group-details\").get_text()\n",
    "        califgross = califgross.strip()\n",
    "        calif = califgross[13:16]\n",
    "\n",
    "    except AttributeError:\n",
    "        calif = \" \"\n",
    "    #print(container)\n",
    "    \n",
    "    d[\"Title\"].append(title)\n",
    "    d[\"Price\"].append(price)\n",
    "    d[\"Calification\"].append(calif)\n",
    "    \n",
    "    \n",
    "\n",
    "MercadoLibredf = pd.DataFrame.from_dict(d)\n",
    "MercadoLibredf = MercadoLibredf.where(pd.notnull(MercadoLibredf), \" \")\n",
    "MercadoLibredf['Price'] = MercadoLibredf['Price'].str.replace(\".\", \"\").astype(int)\n",
    "#print(MercadoLibredf)\n",
    "MercadoLibredf.to_csv('MLdf.csv', header=True, index=False)\n"
   ]
  },
  {
   "cell_type": "code",
   "execution_count": 4,
   "id": "0e0778e2",
   "metadata": {},
   "outputs": [
    {
     "data": {
      "text/html": [
       "<div>\n",
       "<style scoped>\n",
       "    .dataframe tbody tr th:only-of-type {\n",
       "        vertical-align: middle;\n",
       "    }\n",
       "\n",
       "    .dataframe tbody tr th {\n",
       "        vertical-align: top;\n",
       "    }\n",
       "\n",
       "    .dataframe thead th {\n",
       "        text-align: right;\n",
       "    }\n",
       "</style>\n",
       "<table border=\"1\" class=\"dataframe\">\n",
       "  <thead>\n",
       "    <tr style=\"text-align: right;\">\n",
       "      <th></th>\n",
       "      <th>Title</th>\n",
       "      <th>Price</th>\n",
       "      <th>Calification</th>\n",
       "    </tr>\n",
       "  </thead>\n",
       "  <tbody>\n",
       "    <tr>\n",
       "      <th>0</th>\n",
       "      <td>Notebook Lenovo Intel I3 1115g4 Ideapad 3 14it...</td>\n",
       "      <td>489.999</td>\n",
       "      <td>4.6</td>\n",
       "    </tr>\n",
       "    <tr>\n",
       "      <th>1</th>\n",
       "      <td>Laptop Asus VivoBook Go 15 E510KA gris 15.6\", ...</td>\n",
       "      <td>249.999</td>\n",
       "      <td>4.6</td>\n",
       "    </tr>\n",
       "    <tr>\n",
       "      <th>2</th>\n",
       "      <td>Laptop HP 15-ef2529la plata natural 15.6\", AMD...</td>\n",
       "      <td>699.999</td>\n",
       "      <td>4.9</td>\n",
       "    </tr>\n",
       "    <tr>\n",
       "      <th>3</th>\n",
       "      <td>Notebook Lenovo I5 1135g7 8gb Ram 512gb Ssd 14...</td>\n",
       "      <td>565.649</td>\n",
       "      <td>4.6</td>\n",
       "    </tr>\n",
       "    <tr>\n",
       "      <th>4</th>\n",
       "      <td>Notebook Lenovo Ideapad 1i Intel I3 1215u 4gb ...</td>\n",
       "      <td>348.500</td>\n",
       "      <td>4.7</td>\n",
       "    </tr>\n",
       "  </tbody>\n",
       "</table>\n",
       "</div>"
      ],
      "text/plain": [
       "                                               Title    Price Calification\n",
       "0  Notebook Lenovo Intel I3 1115g4 Ideapad 3 14it...  489.999          4.6\n",
       "1  Laptop Asus VivoBook Go 15 E510KA gris 15.6\", ...  249.999          4.6\n",
       "2  Laptop HP 15-ef2529la plata natural 15.6\", AMD...  699.999          4.9\n",
       "3  Notebook Lenovo I5 1135g7 8gb Ram 512gb Ssd 14...  565.649          4.6\n",
       "4  Notebook Lenovo Ideapad 1i Intel I3 1215u 4gb ...  348.500          4.7"
      ]
     },
     "execution_count": 4,
     "metadata": {},
     "output_type": "execute_result"
    }
   ],
   "source": [
    "#Read newly created csv\n",
    "\n",
    "df = pd.read_csv('MLdf.csv')\n",
    "\n",
    "df.head()"
   ]
  },
  {
   "cell_type": "code",
   "execution_count": 5,
   "id": "74995dc8",
   "metadata": {},
   "outputs": [
    {
     "name": "stderr",
     "output_type": "stream",
     "text": [
      "C:\\Users\\Blight\\AppData\\Local\\Temp\\ipykernel_8744\\1738114022.py:37: FutureWarning: The default value of regex will change from True to False in a future version. In addition, single character regular expressions will *not* be treated as literal strings when regex=True.\n",
      "  MercadoLibredf['Price'] = MercadoLibredf['Price'].str.replace(\".\", \"\").astype(int)\n"
     ]
    }
   ],
   "source": [
    "#Combine all of the above code into one function\n",
    "\n",
    "def check_price():\n",
    "    \n",
    "    URL = \"https://listado.mercadolibre.com.ar/notebook#D[A:notebook]\"\n",
    "\n",
    "    page = requests.get(URL)\n",
    "    pageSoup = soup(page.content, \"html.parser\")\n",
    "    ppageSoup = soup(pageSoup.prettify(), \"html.parser\")\n",
    "    \n",
    "    containers = ppageSoup.find_all(class_=\"andes-card ui-search-result shops__cardStyles ui-search-result--core andes-card--flat andes-card--padding-16\")\n",
    "    \n",
    "    d = {\"Title\":[], \"Price\":[], \"Calification\":[]}\n",
    "\n",
    "    for container in containers:\n",
    "        title = container.find(\"h2\", class_=\"ui-search-item__title shops__item-title\").get_text()\n",
    "        title = title.strip()\n",
    "        price = container.find(\"span\", class_=\"andes-money-amount__fraction\").get_text()\n",
    "        price = price.strip()\n",
    "\n",
    "        try:\n",
    "            califgross = container.find(\"div\", class_=\"ui-search-reviews ui-search-item__group__element shops__items-group-details\").get_text()\n",
    "            califgross = califgross.strip()\n",
    "            calif = califgross[13:16]\n",
    "\n",
    "        except AttributeError:\n",
    "            calif = \" \"\n",
    "\n",
    "        d[\"Title\"].append(title)\n",
    "        d[\"Price\"].append(price)\n",
    "        d[\"Calification\"].append(calif)\n",
    "        \n",
    "    MercadoLibredf = pd.DataFrame.from_dict(d)\n",
    "    MercadoLibredf = MercadoLibredf.where(pd.notnull(df), \" \")\n",
    "    MercadoLibredf['Price'] = MercadoLibredf['Price'].str.replace(\".\", \"\").astype(int)\n",
    "    MercadoLibredf.to_csv('MLdf.csv', header=True, index=False)\n"
   ]
  },
  {
   "cell_type": "code",
   "execution_count": 6,
   "id": "24bc5e36",
   "metadata": {},
   "outputs": [],
   "source": [
    "#Runs check_price after a set time and inputs data into your CSV\n",
    "\n",
    "#while(True):\n",
    "#    check_price()\n",
    "#    time.sleep(86400)"
   ]
  },
  {
   "cell_type": "code",
   "execution_count": 7,
   "id": "ab1d68c0",
   "metadata": {},
   "outputs": [
    {
     "name": "stdout",
     "output_type": "stream",
     "text": [
      "<class 'pandas.core.frame.DataFrame'>\n",
      "RangeIndex: 54 entries, 0 to 53\n",
      "Data columns (total 3 columns):\n",
      " #   Column        Non-Null Count  Dtype \n",
      "---  ------        --------------  ----- \n",
      " 0   Title         54 non-null     object\n",
      " 1   Price         54 non-null     object\n",
      " 2   Calification  52 non-null     object\n",
      "dtypes: object(3)\n",
      "memory usage: 1.4+ KB\n"
     ]
    }
   ],
   "source": [
    "df = pd.read_csv('MLdf.csv')\n",
    "\n",
    "df.info()"
   ]
  },
  {
   "cell_type": "code",
   "execution_count": 8,
   "id": "d983e9ce",
   "metadata": {},
   "outputs": [
    {
     "name": "stderr",
     "output_type": "stream",
     "text": [
      "C:\\Users\\Blight\\AppData\\Local\\Temp\\ipykernel_8744\\4275972970.py:5: UserWarning: FixedFormatter should only be used together with FixedLocator\n",
      "  sns.histplot(data, bins=10, kde=True, color='blue').set_xticklabels(data, rotation=90, verticalalignment='center')\n"
     ]
    },
    {
     "data": {
      "text/plain": [
       "[Text(-500000.0, 0, '489999'),\n",
       " Text(0.0, 0, '249999'),\n",
       " Text(500000.0, 0, '699999'),\n",
       " Text(1000000.0, 0, '565649'),\n",
       " Text(1500000.0, 0, '348500'),\n",
       " Text(2000000.0, 0, '269280'),\n",
       " Text(2500000.0, 0, '446000')]"
      ]
     },
     "execution_count": 8,
     "metadata": {},
     "output_type": "execute_result"
    },
    {
     "data": {
      "image/png": "[encoded data removed]",
      "text/plain": [
       "<Figure size 576x432 with 1 Axes>"
      ]
     },
     "metadata": {},
     "output_type": "display_data"
    }
   ],
   "source": [
    "data = MercadoLibredf['Price']\n",
    "\n",
    "sns.set(style=\"whitegrid\")\n",
    "plt.figure(figsize=(8, 6))\n",
    "sns.histplot(data, bins=10, kde=True, color='blue').set_xticklabels(data, rotation=90, verticalalignment='center')"
   ]
  },
  {
   "cell_type": "code",
   "execution_count": null,
   "id": "f0986f71",
   "metadata": {},
   "outputs": [],
   "source": []
  }
 ],
 "metadata": {
  "kernelspec": {
   "display_name": "Python 3 (ipykernel)",
   "language": "python",
   "name": "python3"
  },
  "language_info": {
   "codemirror_mode": {
    "name": "ipython",
    "version": 3
   },
   "file_extension": ".py",
   "mimetype": "text/x-python",
   "name": "python",
   "nbconvert_exporter": "python",
   "pygments_lexer": "ipython3",
   "version": "3.9.12"
  }
 },
 "nbformat": 4,
 "nbformat_minor": 5
}
